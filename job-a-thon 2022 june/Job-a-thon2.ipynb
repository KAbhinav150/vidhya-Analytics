{
 "cells": [
  {
   "cell_type": "code",
   "execution_count": 56,
   "id": "ed376068-8aac-4b39-811d-bdfbe8f9872a",
   "metadata": {},
   "outputs": [],
   "source": [
    "import pandas as pd\n",
    "import numpy as np\n",
    "import seaborn as sns\n",
    "import matplotlib.pyplot as plt\n",
    "from datetime import date\n",
    "import calendar"
   ]
  },
  {
   "cell_type": "code",
   "execution_count": 57,
   "id": "d1ab80b4-947b-4767-b068-9a9f43b5d134",
   "metadata": {},
   "outputs": [],
   "source": [
    "train = pd.read_csv(\"/Users/ghostpc/Downloads/train_wn75k28.csv\", encoding='ISO-8859-1')\n",
    "test = pd.read_csv(\"/Users/ghostpc/Downloads/test_Wf7sxXF.csv\", encoding='ISO-8859-1')\n",
    "submission = pd.read_csv(\"/Users/ghostpc/Downloads/sample_submission_2zvVjBu.csv\", encoding='ISO-8859-1')"
   ]
  },
  {
   "cell_type": "code",
   "execution_count": 58,
   "id": "f6f42e08-71d9-4b95-b224-e8c6df1ddb2f",
   "metadata": {},
   "outputs": [],
   "source": [
    "# coverting object to date time \n",
    "train['created_at'] = pd.to_datetime(train['created_at'])\n",
    "train['signup_date'] = pd.to_datetime(train['signup_date'])"
   ]
  },
  {
   "cell_type": "code",
   "execution_count": 59,
   "id": "fe9c5fc0-f2c5-4e47-bdd8-f5031831eacb",
   "metadata": {},
   "outputs": [],
   "source": [
    "test['created_at'] = pd.to_datetime(test['created_at'])\n",
    "test['signup_date'] = pd.to_datetime(test['signup_date'])"
   ]
  },
  {
   "cell_type": "code",
   "execution_count": 60,
   "id": "87e06cde-48b0-4720-8d78-ed2dc3ddc033",
   "metadata": {},
   "outputs": [
    {
     "data": {
      "text/plain": [
       "0         99 days\n",
       "1        104 days\n",
       "2       -222 days\n",
       "3       1185 days\n",
       "4        207 days\n",
       "           ...   \n",
       "39156   1534 days\n",
       "39157         NaT\n",
       "39158         NaT\n",
       "39159         NaT\n",
       "39160    873 days\n",
       "Name: dayscount, Length: 39161, dtype: timedelta64[ns]"
      ]
     },
     "execution_count": 60,
     "metadata": {},
     "output_type": "execute_result"
    }
   ],
   "source": [
    "train['dayscount']=train['created_at']-train['signup_date']\n",
    "train['dayscount']"
   ]
  },
  {
   "cell_type": "code",
   "execution_count": 61,
   "id": "7efd0526-8c1a-42ca-8761-b4b4725dac04",
   "metadata": {},
   "outputs": [
    {
     "data": {
      "text/plain": [
       "0       137 days\n",
       "1       590 days\n",
       "2            NaT\n",
       "3       558 days\n",
       "4       297 days\n",
       "          ...   \n",
       "13179        NaT\n",
       "13180    11 days\n",
       "13181   227 days\n",
       "13182        NaT\n",
       "13183        NaT\n",
       "Name: dayscount, Length: 13184, dtype: timedelta64[ns]"
      ]
     },
     "execution_count": 61,
     "metadata": {},
     "output_type": "execute_result"
    }
   ],
   "source": [
    "test['dayscount']=test['created_at']-test['signup_date']\n",
    "test['dayscount']"
   ]
  },
  {
   "cell_type": "code",
   "execution_count": 62,
   "id": "45a17dd3-befe-46ad-a4e0-38d93bf82c6d",
   "metadata": {},
   "outputs": [
    {
     "data": {
      "text/plain": [
       "id                          0\n",
       "created_at                  0\n",
       "campaign_var_1              0\n",
       "campaign_var_2              0\n",
       "products_purchased      20911\n",
       "signup_date             15113\n",
       "user_activity_var_1         0\n",
       "user_activity_var_2         0\n",
       "user_activity_var_3         0\n",
       "user_activity_var_4         0\n",
       "user_activity_var_5         0\n",
       "user_activity_var_6         0\n",
       "user_activity_var_7         0\n",
       "user_activity_var_8         0\n",
       "user_activity_var_9         0\n",
       "user_activity_var_10        0\n",
       "user_activity_var_11        0\n",
       "user_activity_var_12        0\n",
       "buy                         0\n",
       "dayscount                   0\n",
       "dtype: int64"
      ]
     },
     "execution_count": 62,
     "metadata": {},
     "output_type": "execute_result"
    }
   ],
   "source": [
    "train['dayscount'] = train['dayscount'].fillna(train['dayscount'].mean())\n",
    "train.isnull().sum()"
   ]
  },
  {
   "cell_type": "code",
   "execution_count": 63,
   "id": "4b32f5dd-7e36-42a8-a000-66d51fe7725e",
   "metadata": {},
   "outputs": [
    {
     "data": {
      "text/plain": [
       "id                         0\n",
       "created_at                 0\n",
       "campaign_var_1             0\n",
       "campaign_var_2             0\n",
       "products_purchased      8136\n",
       "signup_date             6649\n",
       "user_activity_var_1        0\n",
       "user_activity_var_2        0\n",
       "user_activity_var_3        0\n",
       "user_activity_var_4        0\n",
       "user_activity_var_5        0\n",
       "user_activity_var_6        0\n",
       "user_activity_var_7        0\n",
       "user_activity_var_8        0\n",
       "user_activity_var_9        0\n",
       "user_activity_var_10       0\n",
       "user_activity_var_11       0\n",
       "user_activity_var_12       0\n",
       "dayscount                  0\n",
       "dtype: int64"
      ]
     },
     "execution_count": 63,
     "metadata": {},
     "output_type": "execute_result"
    }
   ],
   "source": [
    "test['dayscount'] = test['dayscount'].fillna(test['dayscount'].mean())\n",
    "test.isnull().sum()"
   ]
  },
  {
   "cell_type": "code",
   "execution_count": 64,
   "id": "a5b30f1d-579c-4405-b25e-0c80bceb1091",
   "metadata": {},
   "outputs": [],
   "source": [
    "#dayscount dt to int\n",
    "train['dayscount']=train['dayscount'].dt.days"
   ]
  },
  {
   "cell_type": "code",
   "execution_count": 65,
   "id": "7d0e3a8b-b0f2-4390-8fc5-c82ba367d9e4",
   "metadata": {},
   "outputs": [],
   "source": [
    "test['dayscount']=test['dayscount'].dt.days"
   ]
  },
  {
   "cell_type": "code",
   "execution_count": 66,
   "id": "acd3d76e-804c-49ea-b208-cc8c8e350f72",
   "metadata": {},
   "outputs": [],
   "source": [
    "train['products_purchased'] = train['products_purchased'].fillna(train['products_purchased'].median())"
   ]
  },
  {
   "cell_type": "code",
   "execution_count": 67,
   "id": "0ee6863b-2148-4a56-8da6-64b777638a2c",
   "metadata": {},
   "outputs": [],
   "source": [
    "test['products_purchased'] = test['products_purchased'].fillna(train['products_purchased'].median())"
   ]
  },
  {
   "cell_type": "code",
   "execution_count": 69,
   "id": "9de595b3-1f37-4fa7-b54a-45d866f75d59",
   "metadata": {},
   "outputs": [],
   "source": [
    "train['created_at_day'] = train['created_at'].dt.day_name()"
   ]
  },
  {
   "cell_type": "code",
   "execution_count": 72,
   "id": "528e58a2-89fd-4211-be23-05be6e06eec4",
   "metadata": {},
   "outputs": [],
   "source": [
    "train['signup_date_day'] = train['signup_date'].dt.day_name()"
   ]
  },
  {
   "cell_type": "code",
   "execution_count": 73,
   "id": "ca0e74ee-3e4a-49ac-98a6-84f82587c10f",
   "metadata": {},
   "outputs": [],
   "source": [
    "train['signup_date_day'] = train['signup_date_day'].fillna(train['signup_date_day'].mode())"
   ]
  },
  {
   "cell_type": "code",
   "execution_count": 74,
   "id": "1dbfe330-35f0-456d-b0e0-c2c4a7319f8d",
   "metadata": {},
   "outputs": [],
   "source": [
    "test['created_at_day'] = test['created_at'].dt.day_name()"
   ]
  },
  {
   "cell_type": "code",
   "execution_count": 75,
   "id": "83161f7c-93f7-4f90-98c4-2577418eecf8",
   "metadata": {},
   "outputs": [],
   "source": [
    "test['signup_date_day'] = test['signup_date'].dt.day_name()"
   ]
  },
  {
   "cell_type": "code",
   "execution_count": 76,
   "id": "6c095111-9d2c-4e29-8dd7-37b4aa3028a2",
   "metadata": {},
   "outputs": [],
   "source": [
    "test['signup_date_day'] = test['signup_date_day'].fillna(test['signup_date_day'].mode())"
   ]
  },
  {
   "cell_type": "code",
   "execution_count": 79,
   "id": "3ecf3037-b6a0-4839-a64a-6e3c0d225dc8",
   "metadata": {},
   "outputs": [],
   "source": []
  },
  {
   "cell_type": "code",
   "execution_count": 78,
   "id": "496589e8-ef11-4b07-b39d-03b9a2b06e5e",
   "metadata": {},
   "outputs": [],
   "source": [
    "train = pd.get_dummies(train)\n",
    "test = pd.get_dummies(test)"
   ]
  },
  {
   "cell_type": "code",
   "execution_count": 80,
   "id": "fee0babd-2936-4c53-94e0-8a70153d2c32",
   "metadata": {},
   "outputs": [],
   "source": [
    "X = train.drop(['id','buy','created_at','signup_date'],axis=1)"
   ]
  },
  {
   "cell_type": "code",
   "execution_count": 81,
   "id": "e6393f2f-7097-4006-aa7e-f39ebd875843",
   "metadata": {},
   "outputs": [],
   "source": [
    "y = train['buy']"
   ]
  },
  {
   "cell_type": "code",
   "execution_count": 82,
   "id": "fe283c95-6226-4827-a651-a5d4be4bcb30",
   "metadata": {},
   "outputs": [],
   "source": [
    "testt=test.drop(['id','created_at','signup_date'],axis=1)"
   ]
  },
  {
   "cell_type": "code",
   "execution_count": 83,
   "id": "5e724e35-afad-4bf0-8fab-c4092e6958de",
   "metadata": {},
   "outputs": [
    {
     "data": {
      "text/plain": [
       "campaign_var_1               0\n",
       "campaign_var_2               0\n",
       "products_purchased           0\n",
       "user_activity_var_1          0\n",
       "user_activity_var_2          0\n",
       "user_activity_var_3          0\n",
       "user_activity_var_4          0\n",
       "user_activity_var_5          0\n",
       "user_activity_var_6          0\n",
       "user_activity_var_7          0\n",
       "user_activity_var_8          0\n",
       "user_activity_var_9          0\n",
       "user_activity_var_10         0\n",
       "user_activity_var_11         0\n",
       "user_activity_var_12         0\n",
       "dayscount                    0\n",
       "created_at_day_Friday        0\n",
       "created_at_day_Monday        0\n",
       "created_at_day_Saturday      0\n",
       "created_at_day_Sunday        0\n",
       "created_at_day_Thursday      0\n",
       "created_at_day_Tuesday       0\n",
       "created_at_day_Wednesday     0\n",
       "signup_date_day_Friday       0\n",
       "signup_date_day_Monday       0\n",
       "signup_date_day_Saturday     0\n",
       "signup_date_day_Sunday       0\n",
       "signup_date_day_Thursday     0\n",
       "signup_date_day_Tuesday      0\n",
       "signup_date_day_Wednesday    0\n",
       "dtype: int64"
      ]
     },
     "execution_count": 83,
     "metadata": {},
     "output_type": "execute_result"
    }
   ],
   "source": [
    "testt.isnull().sum()"
   ]
  },
  {
   "cell_type": "code",
   "execution_count": 84,
   "id": "0fbae0af-3bc1-4392-857a-09cbcee21532",
   "metadata": {},
   "outputs": [
    {
     "data": {
      "text/plain": [
       "campaign_var_1               0\n",
       "campaign_var_2               0\n",
       "products_purchased           0\n",
       "user_activity_var_1          0\n",
       "user_activity_var_2          0\n",
       "user_activity_var_3          0\n",
       "user_activity_var_4          0\n",
       "user_activity_var_5          0\n",
       "user_activity_var_6          0\n",
       "user_activity_var_7          0\n",
       "user_activity_var_8          0\n",
       "user_activity_var_9          0\n",
       "user_activity_var_10         0\n",
       "user_activity_var_11         0\n",
       "user_activity_var_12         0\n",
       "dayscount                    0\n",
       "created_at_day_Friday        0\n",
       "created_at_day_Monday        0\n",
       "created_at_day_Saturday      0\n",
       "created_at_day_Sunday        0\n",
       "created_at_day_Thursday      0\n",
       "created_at_day_Tuesday       0\n",
       "created_at_day_Wednesday     0\n",
       "signup_date_day_Friday       0\n",
       "signup_date_day_Monday       0\n",
       "signup_date_day_Saturday     0\n",
       "signup_date_day_Sunday       0\n",
       "signup_date_day_Thursday     0\n",
       "signup_date_day_Tuesday      0\n",
       "signup_date_day_Wednesday    0\n",
       "dtype: int64"
      ]
     },
     "execution_count": 84,
     "metadata": {},
     "output_type": "execute_result"
    }
   ],
   "source": [
    "X.isnull().sum()"
   ]
  },
  {
   "cell_type": "markdown",
   "id": "05822266-b3ba-4e58-99a4-b578acaf2dea",
   "metadata": {},
   "source": [
    "# oversampling"
   ]
  },
  {
   "cell_type": "code",
   "execution_count": 85,
   "id": "7f57a860-dbf3-4983-8cdc-ce72938c6e8c",
   "metadata": {},
   "outputs": [],
   "source": [
    "from collections import Counter\n",
    "from sklearn.datasets import make_classification\n",
    "from imblearn.over_sampling import RandomOverSampler\n",
    "from imblearn.under_sampling import RandomUnderSampler"
   ]
  },
  {
   "cell_type": "code",
   "execution_count": 86,
   "id": "eff284fe-642a-4f7b-8dfb-c9f2f0802e68",
   "metadata": {},
   "outputs": [],
   "source": [
    "# define oversampling strategy\n",
    "UnderSampler = RandomUnderSampler(sampling_strategy=.9)"
   ]
  },
  {
   "cell_type": "code",
   "execution_count": 20,
   "id": "04c0a423-4889-4af1-a61e-0537a3735aed",
   "metadata": {},
   "outputs": [],
   "source": [
    "X, y = UnderSampler.fit_resample(X, y)"
   ]
  },
  {
   "cell_type": "code",
   "execution_count": 21,
   "id": "ceb2df80-6faa-4db7-bf11-98b0d3d37a70",
   "metadata": {},
   "outputs": [
    {
     "name": "stdout",
     "output_type": "stream",
     "text": [
      "Counter({0: 2220, 1: 1998})\n"
     ]
    }
   ],
   "source": [
    "print(Counter(y))"
   ]
  },
  {
   "cell_type": "markdown",
   "id": "81d48bc1-0cf1-4ff3-abf8-08733dc33ac4",
   "metadata": {},
   "source": [
    "# Logestic Model"
   ]
  },
  {
   "cell_type": "code",
   "execution_count": 87,
   "id": "40836919-8c2c-4c23-a169-e5c9b14dccb0",
   "metadata": {},
   "outputs": [
    {
     "name": "stderr",
     "output_type": "stream",
     "text": [
      "/Users/ghostpc/opt/anaconda3/lib/python3.9/site-packages/sklearn/linear_model/_logistic.py:444: ConvergenceWarning: lbfgs failed to converge (status=1):\n",
      "STOP: TOTAL NO. of ITERATIONS REACHED LIMIT.\n",
      "\n",
      "Increase the number of iterations (max_iter) or scale the data as shown in:\n",
      "    https://scikit-learn.org/stable/modules/preprocessing.html\n",
      "Please also refer to the documentation for alternative solver options:\n",
      "    https://scikit-learn.org/stable/modules/linear_model.html#logistic-regression\n",
      "  n_iter_i = _check_optimize_result(\n"
     ]
    },
    {
     "data": {
      "text/html": [
       "<style>#sk-container-id-1 {color: black;background-color: white;}#sk-container-id-1 pre{padding: 0;}#sk-container-id-1 div.sk-toggleable {background-color: white;}#sk-container-id-1 label.sk-toggleable__label {cursor: pointer;display: block;width: 100%;margin-bottom: 0;padding: 0.3em;box-sizing: border-box;text-align: center;}#sk-container-id-1 label.sk-toggleable__label-arrow:before {content: \"▸\";float: left;margin-right: 0.25em;color: #696969;}#sk-container-id-1 label.sk-toggleable__label-arrow:hover:before {color: black;}#sk-container-id-1 div.sk-estimator:hover label.sk-toggleable__label-arrow:before {color: black;}#sk-container-id-1 div.sk-toggleable__content {max-height: 0;max-width: 0;overflow: hidden;text-align: left;background-color: #f0f8ff;}#sk-container-id-1 div.sk-toggleable__content pre {margin: 0.2em;color: black;border-radius: 0.25em;background-color: #f0f8ff;}#sk-container-id-1 input.sk-toggleable__control:checked~div.sk-toggleable__content {max-height: 200px;max-width: 100%;overflow: auto;}#sk-container-id-1 input.sk-toggleable__control:checked~label.sk-toggleable__label-arrow:before {content: \"▾\";}#sk-container-id-1 div.sk-estimator input.sk-toggleable__control:checked~label.sk-toggleable__label {background-color: #d4ebff;}#sk-container-id-1 div.sk-label input.sk-toggleable__control:checked~label.sk-toggleable__label {background-color: #d4ebff;}#sk-container-id-1 input.sk-hidden--visually {border: 0;clip: rect(1px 1px 1px 1px);clip: rect(1px, 1px, 1px, 1px);height: 1px;margin: -1px;overflow: hidden;padding: 0;position: absolute;width: 1px;}#sk-container-id-1 div.sk-estimator {font-family: monospace;background-color: #f0f8ff;border: 1px dotted black;border-radius: 0.25em;box-sizing: border-box;margin-bottom: 0.5em;}#sk-container-id-1 div.sk-estimator:hover {background-color: #d4ebff;}#sk-container-id-1 div.sk-parallel-item::after {content: \"\";width: 100%;border-bottom: 1px solid gray;flex-grow: 1;}#sk-container-id-1 div.sk-label:hover label.sk-toggleable__label {background-color: #d4ebff;}#sk-container-id-1 div.sk-serial::before {content: \"\";position: absolute;border-left: 1px solid gray;box-sizing: border-box;top: 0;bottom: 0;left: 50%;z-index: 0;}#sk-container-id-1 div.sk-serial {display: flex;flex-direction: column;align-items: center;background-color: white;padding-right: 0.2em;padding-left: 0.2em;position: relative;}#sk-container-id-1 div.sk-item {position: relative;z-index: 1;}#sk-container-id-1 div.sk-parallel {display: flex;align-items: stretch;justify-content: center;background-color: white;position: relative;}#sk-container-id-1 div.sk-item::before, #sk-container-id-1 div.sk-parallel-item::before {content: \"\";position: absolute;border-left: 1px solid gray;box-sizing: border-box;top: 0;bottom: 0;left: 50%;z-index: -1;}#sk-container-id-1 div.sk-parallel-item {display: flex;flex-direction: column;z-index: 1;position: relative;background-color: white;}#sk-container-id-1 div.sk-parallel-item:first-child::after {align-self: flex-end;width: 50%;}#sk-container-id-1 div.sk-parallel-item:last-child::after {align-self: flex-start;width: 50%;}#sk-container-id-1 div.sk-parallel-item:only-child::after {width: 0;}#sk-container-id-1 div.sk-dashed-wrapped {border: 1px dashed gray;margin: 0 0.4em 0.5em 0.4em;box-sizing: border-box;padding-bottom: 0.4em;background-color: white;}#sk-container-id-1 div.sk-label label {font-family: monospace;font-weight: bold;display: inline-block;line-height: 1.2em;}#sk-container-id-1 div.sk-label-container {text-align: center;}#sk-container-id-1 div.sk-container {/* jupyter's `normalize.less` sets `[hidden] { display: none; }` but bootstrap.min.css set `[hidden] { display: none !important; }` so we also need the `!important` here to be able to override the default hidden behavior on the sphinx rendered scikit-learn.org. See: https://github.com/scikit-learn/scikit-learn/issues/21755 */display: inline-block !important;position: relative;}#sk-container-id-1 div.sk-text-repr-fallback {display: none;}</style><div id=\"sk-container-id-1\" class=\"sk-top-container\"><div class=\"sk-text-repr-fallback\"><pre>LogisticRegression()</pre><b>In a Jupyter environment, please rerun this cell to show the HTML representation or trust the notebook. <br />On GitHub, the HTML representation is unable to render, please try loading this page with nbviewer.org.</b></div><div class=\"sk-container\" hidden><div class=\"sk-item\"><div class=\"sk-estimator sk-toggleable\"><input class=\"sk-toggleable__control sk-hidden--visually\" id=\"sk-estimator-id-1\" type=\"checkbox\" checked><label for=\"sk-estimator-id-1\" class=\"sk-toggleable__label sk-toggleable__label-arrow\">LogisticRegression</label><div class=\"sk-toggleable__content\"><pre>LogisticRegression()</pre></div></div></div></div></div>"
      ],
      "text/plain": [
       "LogisticRegression()"
      ]
     },
     "execution_count": 87,
     "metadata": {},
     "output_type": "execute_result"
    }
   ],
   "source": [
    "from sklearn.linear_model import LogisticRegression\n",
    "from sklearn.model_selection import train_test_split\n",
    "from sklearn import metrics\n",
    "X_train, X_test, y_train, y_test = train_test_split(X, y, test_size=0.3, random_state=0)\n",
    "logreg = LogisticRegression()\n",
    "logreg.fit(X_train, y_train)"
   ]
  },
  {
   "cell_type": "code",
   "execution_count": 65,
   "id": "ee707788-cbcc-4d4a-acd8-73ca763eb3bc",
   "metadata": {},
   "outputs": [
    {
     "name": "stdout",
     "output_type": "stream",
     "text": [
      "Accuracy of logistic regression classifier on test set: 0.97\n"
     ]
    }
   ],
   "source": [
    "y_pred = logreg.predict(X_test)\n",
    "print('Accuracy of logistic regression classifier on test set: {:.2f}'.format(logreg.score(X_test, y_test)))"
   ]
  },
  {
   "cell_type": "code",
   "execution_count": 66,
   "id": "4fe59e08-b2b9-490b-b016-c7ee19d189ba",
   "metadata": {},
   "outputs": [],
   "source": [
    "y_pred_sol = logreg.predict(testt)"
   ]
  },
  {
   "cell_type": "code",
   "execution_count": 25,
   "id": "3701e757-93d4-4992-b0ef-8bebaf5f1415",
   "metadata": {},
   "outputs": [],
   "source": [
    "submission['buy']=y_pred_sol"
   ]
  },
  {
   "cell_type": "code",
   "execution_count": 26,
   "id": "4aec6193-f8f7-4ee0-9e2c-32fbe9e4dc32",
   "metadata": {},
   "outputs": [],
   "source": [
    "#submission.to_csv('LRModel3.csv',index=False)"
   ]
  },
  {
   "cell_type": "markdown",
   "id": "3efe93eb-4852-4231-a467-92d24f1a8a11",
   "metadata": {},
   "source": [
    "# xgboost"
   ]
  },
  {
   "cell_type": "code",
   "execution_count": 88,
   "id": "efc2558a-7799-44d5-97fb-26d2d843ea98",
   "metadata": {},
   "outputs": [],
   "source": [
    "## Hyper Parameter Optimization\n",
    "\n",
    "params={\n",
    " \"learning_rate\"    : [0.05, 0.10, 0.15, 0.20, 0.25, 0.30 ] ,\n",
    " \"max_depth\"        : [ 3, 4, 5, 6, 8, 10, 12, 15],\n",
    " \"min_child_weight\" : [ 1, 3, 5, 7 ],\n",
    " \"gamma\"            : [ 0.0, 0.1, 0.2 , 0.3, 0.4 ],\n",
    " \"colsample_bytree\" : [ 0.3, 0.4, 0.5 , 0.7 ]\n",
    "    \n",
    "}"
   ]
  },
  {
   "cell_type": "code",
   "execution_count": 89,
   "id": "a4522582-fc00-42f6-b0ae-27ebcce3f31f",
   "metadata": {},
   "outputs": [],
   "source": [
    "## Hyperparameter optimization using RandomizedSearchCV\n",
    "from sklearn.model_selection import RandomizedSearchCV, GridSearchCV\n",
    "import xgboost"
   ]
  },
  {
   "cell_type": "code",
   "execution_count": 90,
   "id": "4116132c-6991-464a-94d3-074e69d986d3",
   "metadata": {},
   "outputs": [],
   "source": [
    "def timer(start_time=None):\n",
    "    if not start_time:\n",
    "        start_time = datetime.now()\n",
    "        return start_time\n",
    "    elif start_time:\n",
    "        thour, temp_sec = divmod((datetime.now() - start_time).total_seconds(), 3600)\n",
    "        tmin, tsec = divmod(temp_sec, 60)\n",
    "        print('\\n Time taken: %i hours %i minutes and %s seconds.' % (thour, tmin, round(tsec, 2)))"
   ]
  },
  {
   "cell_type": "code",
   "execution_count": 91,
   "id": "778f6aff-547d-4a82-b652-183daf0aee09",
   "metadata": {},
   "outputs": [],
   "source": [
    "classifier=xgboost.XGBClassifier()"
   ]
  },
  {
   "cell_type": "code",
   "execution_count": 92,
   "id": "aec1f7f9-8598-4d1f-a5ae-d30f895f7f80",
   "metadata": {},
   "outputs": [],
   "source": [
    "random_search=RandomizedSearchCV(classifier,param_distributions=params,n_iter=5,scoring='roc_auc',n_jobs=-1,cv=5,verbose=3)"
   ]
  },
  {
   "cell_type": "code",
   "execution_count": 93,
   "id": "18c9583e-dad9-4e95-b9e9-c186cc0686da",
   "metadata": {},
   "outputs": [
    {
     "name": "stdout",
     "output_type": "stream",
     "text": [
      "Fitting 5 folds for each of 5 candidates, totalling 25 fits\n",
      "\n",
      " Time taken: 0 hours 1 minutes and 20.7 seconds.\n"
     ]
    }
   ],
   "source": [
    "from datetime import datetime\n",
    "# Here we go\n",
    "start_time = timer(None) # timing starts from this point for \"start_time\" variable\n",
    "random_search.fit(X,y)\n",
    "timer(start_time) # timing ends here for \"start_time\" variable"
   ]
  },
  {
   "cell_type": "code",
   "execution_count": 95,
   "id": "c4f526c7-423c-4d26-b479-37467ce0ee41",
   "metadata": {},
   "outputs": [
    {
     "data": {
      "text/html": [
       "<style>#sk-container-id-3 {color: black;background-color: white;}#sk-container-id-3 pre{padding: 0;}#sk-container-id-3 div.sk-toggleable {background-color: white;}#sk-container-id-3 label.sk-toggleable__label {cursor: pointer;display: block;width: 100%;margin-bottom: 0;padding: 0.3em;box-sizing: border-box;text-align: center;}#sk-container-id-3 label.sk-toggleable__label-arrow:before {content: \"▸\";float: left;margin-right: 0.25em;color: #696969;}#sk-container-id-3 label.sk-toggleable__label-arrow:hover:before {color: black;}#sk-container-id-3 div.sk-estimator:hover label.sk-toggleable__label-arrow:before {color: black;}#sk-container-id-3 div.sk-toggleable__content {max-height: 0;max-width: 0;overflow: hidden;text-align: left;background-color: #f0f8ff;}#sk-container-id-3 div.sk-toggleable__content pre {margin: 0.2em;color: black;border-radius: 0.25em;background-color: #f0f8ff;}#sk-container-id-3 input.sk-toggleable__control:checked~div.sk-toggleable__content {max-height: 200px;max-width: 100%;overflow: auto;}#sk-container-id-3 input.sk-toggleable__control:checked~label.sk-toggleable__label-arrow:before {content: \"▾\";}#sk-container-id-3 div.sk-estimator input.sk-toggleable__control:checked~label.sk-toggleable__label {background-color: #d4ebff;}#sk-container-id-3 div.sk-label input.sk-toggleable__control:checked~label.sk-toggleable__label {background-color: #d4ebff;}#sk-container-id-3 input.sk-hidden--visually {border: 0;clip: rect(1px 1px 1px 1px);clip: rect(1px, 1px, 1px, 1px);height: 1px;margin: -1px;overflow: hidden;padding: 0;position: absolute;width: 1px;}#sk-container-id-3 div.sk-estimator {font-family: monospace;background-color: #f0f8ff;border: 1px dotted black;border-radius: 0.25em;box-sizing: border-box;margin-bottom: 0.5em;}#sk-container-id-3 div.sk-estimator:hover {background-color: #d4ebff;}#sk-container-id-3 div.sk-parallel-item::after {content: \"\";width: 100%;border-bottom: 1px solid gray;flex-grow: 1;}#sk-container-id-3 div.sk-label:hover label.sk-toggleable__label {background-color: #d4ebff;}#sk-container-id-3 div.sk-serial::before {content: \"\";position: absolute;border-left: 1px solid gray;box-sizing: border-box;top: 0;bottom: 0;left: 50%;z-index: 0;}#sk-container-id-3 div.sk-serial {display: flex;flex-direction: column;align-items: center;background-color: white;padding-right: 0.2em;padding-left: 0.2em;position: relative;}#sk-container-id-3 div.sk-item {position: relative;z-index: 1;}#sk-container-id-3 div.sk-parallel {display: flex;align-items: stretch;justify-content: center;background-color: white;position: relative;}#sk-container-id-3 div.sk-item::before, #sk-container-id-3 div.sk-parallel-item::before {content: \"\";position: absolute;border-left: 1px solid gray;box-sizing: border-box;top: 0;bottom: 0;left: 50%;z-index: -1;}#sk-container-id-3 div.sk-parallel-item {display: flex;flex-direction: column;z-index: 1;position: relative;background-color: white;}#sk-container-id-3 div.sk-parallel-item:first-child::after {align-self: flex-end;width: 50%;}#sk-container-id-3 div.sk-parallel-item:last-child::after {align-self: flex-start;width: 50%;}#sk-container-id-3 div.sk-parallel-item:only-child::after {width: 0;}#sk-container-id-3 div.sk-dashed-wrapped {border: 1px dashed gray;margin: 0 0.4em 0.5em 0.4em;box-sizing: border-box;padding-bottom: 0.4em;background-color: white;}#sk-container-id-3 div.sk-label label {font-family: monospace;font-weight: bold;display: inline-block;line-height: 1.2em;}#sk-container-id-3 div.sk-label-container {text-align: center;}#sk-container-id-3 div.sk-container {/* jupyter's `normalize.less` sets `[hidden] { display: none; }` but bootstrap.min.css set `[hidden] { display: none !important; }` so we also need the `!important` here to be able to override the default hidden behavior on the sphinx rendered scikit-learn.org. See: https://github.com/scikit-learn/scikit-learn/issues/21755 */display: inline-block !important;position: relative;}#sk-container-id-3 div.sk-text-repr-fallback {display: none;}</style><div id=\"sk-container-id-3\" class=\"sk-top-container\"><div class=\"sk-text-repr-fallback\"><pre>XGBClassifier(base_score=0.5, booster=&#x27;gbtree&#x27;, callbacks=None,\n",
       "              colsample_bylevel=1, colsample_bynode=1, colsample_bytree=0.4,\n",
       "              early_stopping_rounds=None, enable_categorical=False,\n",
       "              eval_metric=None, gamma=0.2, gpu_id=-1, grow_policy=&#x27;depthwise&#x27;,\n",
       "              importance_type=None, interaction_constraints=&#x27;&#x27;,\n",
       "              learning_rate=0.15, max_bin=256, max_cat_to_onehot=4,\n",
       "              max_delta_step=0, max_depth=6, max_leaves=0, min_child_weight=1,\n",
       "              missing=nan, monotone_constraints=&#x27;()&#x27;, n_estimators=100,\n",
       "              n_jobs=0, num_parallel_tree=1, predictor=&#x27;auto&#x27;, random_state=0,\n",
       "              reg_alpha=0, reg_lambda=1, ...)</pre><b>In a Jupyter environment, please rerun this cell to show the HTML representation or trust the notebook. <br />On GitHub, the HTML representation is unable to render, please try loading this page with nbviewer.org.</b></div><div class=\"sk-container\" hidden><div class=\"sk-item\"><div class=\"sk-estimator sk-toggleable\"><input class=\"sk-toggleable__control sk-hidden--visually\" id=\"sk-estimator-id-3\" type=\"checkbox\" checked><label for=\"sk-estimator-id-3\" class=\"sk-toggleable__label sk-toggleable__label-arrow\">XGBClassifier</label><div class=\"sk-toggleable__content\"><pre>XGBClassifier(base_score=0.5, booster=&#x27;gbtree&#x27;, callbacks=None,\n",
       "              colsample_bylevel=1, colsample_bynode=1, colsample_bytree=0.4,\n",
       "              early_stopping_rounds=None, enable_categorical=False,\n",
       "              eval_metric=None, gamma=0.2, gpu_id=-1, grow_policy=&#x27;depthwise&#x27;,\n",
       "              importance_type=None, interaction_constraints=&#x27;&#x27;,\n",
       "              learning_rate=0.15, max_bin=256, max_cat_to_onehot=4,\n",
       "              max_delta_step=0, max_depth=6, max_leaves=0, min_child_weight=1,\n",
       "              missing=nan, monotone_constraints=&#x27;()&#x27;, n_estimators=100,\n",
       "              n_jobs=0, num_parallel_tree=1, predictor=&#x27;auto&#x27;, random_state=0,\n",
       "              reg_alpha=0, reg_lambda=1, ...)</pre></div></div></div></div></div>"
      ],
      "text/plain": [
       "XGBClassifier(base_score=0.5, booster='gbtree', callbacks=None,\n",
       "              colsample_bylevel=1, colsample_bynode=1, colsample_bytree=0.4,\n",
       "              early_stopping_rounds=None, enable_categorical=False,\n",
       "              eval_metric=None, gamma=0.2, gpu_id=-1, grow_policy='depthwise',\n",
       "              importance_type=None, interaction_constraints='',\n",
       "              learning_rate=0.15, max_bin=256, max_cat_to_onehot=4,\n",
       "              max_delta_step=0, max_depth=6, max_leaves=0, min_child_weight=1,\n",
       "              missing=nan, monotone_constraints='()', n_estimators=100,\n",
       "              n_jobs=0, num_parallel_tree=1, predictor='auto', random_state=0,\n",
       "              reg_alpha=0, reg_lambda=1, ...)"
      ]
     },
     "execution_count": 95,
     "metadata": {},
     "output_type": "execute_result"
    }
   ],
   "source": [
    "random_search.best_estimator_"
   ]
  },
  {
   "cell_type": "code",
   "execution_count": 96,
   "id": "0830ea13-6ad0-41d7-9422-b88823b92652",
   "metadata": {},
   "outputs": [
    {
     "name": "stdout",
     "output_type": "stream",
     "text": [
      "<class 'xgboost.sklearn.XGBClassifier'>\n"
     ]
    }
   ],
   "source": [
    "import xgboost as xgb\n",
    "\n",
    "xgb_cl = xgb.XGBClassifier(base_score=0.5, booster='gbtree', callbacks=None,\n",
    "              colsample_bylevel=1, colsample_bynode=1, colsample_bytree=0.4,\n",
    "              early_stopping_rounds=None, enable_categorical=False,\n",
    "              eval_metric=None, gamma=0.2, gpu_id=-1, grow_policy='depthwise',\n",
    "              importance_type=None, interaction_constraints='',\n",
    "              learning_rate=0.15, max_bin=256, max_cat_to_onehot=4,\n",
    "              max_delta_step=0, max_depth=6, max_leaves=0, min_child_weight=1,\n",
    "              monotone_constraints='()', n_estimators=100,\n",
    "              n_jobs=0, num_parallel_tree=1, predictor='auto', random_state=0,\n",
    "              reg_alpha=0, reg_lambda=1)\n",
    "\n",
    "print(type(xgb_cl))"
   ]
  },
  {
   "cell_type": "code",
   "execution_count": 97,
   "id": "c9b22ec5-f9ba-4e38-bdff-b97a0f6654c6",
   "metadata": {},
   "outputs": [
    {
     "data": {
      "text/plain": [
       "0.9745510256192016"
      ]
     },
     "execution_count": 97,
     "metadata": {},
     "output_type": "execute_result"
    }
   ],
   "source": [
    "\n",
    "from sklearn.metrics import accuracy_score\n",
    "\n",
    "# Init classifier\n",
    "xgb_cl = xgb.XGBClassifier()\n",
    "\n",
    "# Fit\n",
    "xgb_cl.fit(X_train, y_train)\n",
    "\n",
    "# Predict\n",
    "preds = xgb_cl.predict(X_test)\n",
    "\n",
    "# Score\n",
    "accuracy_score(y_test, preds)"
   ]
  },
  {
   "cell_type": "code",
   "execution_count": 108,
   "id": "efe662a9-9c78-4acf-8d63-55268ac208d8",
   "metadata": {},
   "outputs": [
    {
     "data": {
      "text/plain": [
       "array([0.00732984, 0.0078331 , 0.00488837, 0.00762006, 0.14674197,\n",
       "       0.00422897, 0.16908598, 0.0331263 , 0.00624411, 0.00523784,\n",
       "       0.03208856, 0.32595748, 0.01322894, 0.14045276, 0.00934405,\n",
       "       0.02075289, 0.00361972, 0.00384989, 0.00375551, 0.00341975,\n",
       "       0.00305556, 0.00311609, 0.0030939 , 0.00693778, 0.0045064 ,\n",
       "       0.00800329, 0.00361583, 0.00716724, 0.00592697, 0.00577086],\n",
       "      dtype=float32)"
      ]
     },
     "execution_count": 108,
     "metadata": {},
     "output_type": "execute_result"
    }
   ],
   "source": [
    "xgb_cl.feature_importances_"
   ]
  },
  {
   "cell_type": "code",
   "execution_count": 109,
   "id": "7c2509b7-8bb5-42cc-a077-d88acc9f8db6",
   "metadata": {},
   "outputs": [],
   "source": [
    "sorted_idx = xgb_cl.feature_importances_.argsort()"
   ]
  },
  {
   "cell_type": "code",
   "execution_count": 110,
   "id": "707beefb-5131-47a9-88d4-37cc2d8d3a3a",
   "metadata": {},
   "outputs": [
    {
     "data": {
      "text/plain": [
       "<BarContainer object of 30 artists>"
      ]
     },
     "execution_count": 110,
     "metadata": {},
     "output_type": "execute_result"
    },
    {
     "data": {
      "image/png": "[encoded data removed]",
      "text/plain": [
       "<Figure size 432x288 with 1 Axes>"
      ]
     },
     "metadata": {
      "needs_background": "light"
     },
     "output_type": "display_data"
    }
   ],
   "source": [
    "plt.barh(X_train.columns, xgb_cl.feature_importances_) "
   ]
  },
  {
   "cell_type": "code",
   "execution_count": null,
   "id": "0eac3105-6593-4ea4-b6b1-fc61458784a4",
   "metadata": {},
   "outputs": [],
   "source": []
  },
  {
   "cell_type": "code",
   "execution_count": 98,
   "id": "bb543428-7cd7-46d3-a034-6a8e5b126c18",
   "metadata": {},
   "outputs": [],
   "source": [
    "preds = xgb_cl.predict(testt)"
   ]
  },
  {
   "cell_type": "code",
   "execution_count": 99,
   "id": "4ceec34b-f32b-4d3a-8935-cc3433b4d08c",
   "metadata": {},
   "outputs": [],
   "source": [
    "submission['buy']=preds"
   ]
  },
  {
   "cell_type": "code",
   "execution_count": 100,
   "id": "bd777968-e33d-403c-bcc1-33e1a7553f4d",
   "metadata": {},
   "outputs": [],
   "source": [
    "submission.to_csv('XGModel8.csv',index=False)"
   ]
  },
  {
   "cell_type": "markdown",
   "id": "d7b49d24-5a2c-47f6-8f81-11ea7392b2d2",
   "metadata": {},
   "source": [
    "# StratifiedKFold"
   ]
  },
  {
   "cell_type": "code",
   "execution_count": 101,
   "id": "187b556d-9416-4ba7-82c5-399645366bbd",
   "metadata": {},
   "outputs": [],
   "source": [
    "from sklearn.model_selection import StratifiedKFold\n",
    "from statistics import mean, stdev\n",
    "from sklearn import preprocessing"
   ]
  },
  {
   "cell_type": "code",
   "execution_count": 102,
   "id": "cf804165-04f9-45f9-b4b3-2f5a1eb383c1",
   "metadata": {},
   "outputs": [],
   "source": [
    "# Feature Scaling for input features.\n",
    "scaler = preprocessing.MinMaxScaler()\n",
    "x_scaled = scaler.fit_transform(X)"
   ]
  },
  {
   "cell_type": "code",
   "execution_count": 103,
   "id": "c4594add-5cec-4bc7-bde8-e1df1daafb0a",
   "metadata": {},
   "outputs": [],
   "source": [
    "# Init classifier\n",
    "xgb_cl = xgb.XGBClassifier(base_score=0.5, booster='gbtree', callbacks=None,\n",
    "              colsample_bylevel=1, colsample_bynode=1, colsample_bytree=0.4,\n",
    "              early_stopping_rounds=None, enable_categorical=False,\n",
    "              eval_metric=None, gamma=0.2, gpu_id=-1, grow_policy='depthwise',\n",
    "              importance_type=None, interaction_constraints='',\n",
    "              learning_rate=0.15, max_bin=256, max_cat_to_onehot=4,\n",
    "              max_delta_step=0, max_depth=6, max_leaves=0, min_child_weight=1,\n",
    "              monotone_constraints='()', n_estimators=100,\n",
    "              n_jobs=0, num_parallel_tree=1, predictor='auto', random_state=0,\n",
    "              reg_alpha=0, reg_lambda=1)"
   ]
  },
  {
   "cell_type": "code",
   "execution_count": 104,
   "id": "804ba8ef-a2a6-43a7-807a-a6e425eb73d7",
   "metadata": {},
   "outputs": [],
   "source": [
    "skf = StratifiedKFold(n_splits=10, shuffle=True, random_state=1)\n",
    "lst_accu_stratified = []"
   ]
  },
  {
   "cell_type": "code",
   "execution_count": 105,
   "id": "e354bab7-c566-461d-b14c-8de582b7b499",
   "metadata": {},
   "outputs": [],
   "source": [
    "for train_index, test_index in skf.split(X, y):\n",
    "    x_train_fold, x_test_fold = x_scaled[train_index], x_scaled[test_index]\n",
    "    y_train_fold, y_test_fold = y[train_index], y[test_index]\n",
    "    xgb_cl.fit(x_train_fold, y_train_fold)\n",
    "    lst_accu_stratified.append(xgb_cl.score(x_test_fold, y_test_fold))"
   ]
  },
  {
   "cell_type": "code",
   "execution_count": 106,
   "id": "e4ae091d-1cb9-44f3-88d5-508f85538ca3",
   "metadata": {},
   "outputs": [
    {
     "name": "stdout",
     "output_type": "stream",
     "text": [
      "List of possible accuracy: [0.9785550165943324, 0.9742083758937692, 0.9744637385086823, 0.9731869254341164, 0.9770173646578141, 0.9770173646578141, 0.9729315628192032, 0.9747191011235955, 0.9785495403472931, 0.9724208375893769]\n",
      "\n",
      "Maximum Accuracy That can be obtained from this model is: 97.85550165943324 %\n",
      "\n",
      "Minimum Accuracy: 97.2420837589377 %\n",
      "\n",
      "Overall Accuracy: 97.53069827625997 %\n",
      "\n",
      "Standard Deviation is: 0.002300855290418724\n",
      "[CV 2/5] END colsample_bytree=0.7, gamma=0.3, learning_rate=0.15, max_depth=12, min_child_weight=3;, score=0.936 total time=  28.7s\n",
      "[CV 1/5] END colsample_bytree=0.4, gamma=0.2, learning_rate=0.15, max_depth=6, min_child_weight=1;, score=0.920 total time=   7.2s\n",
      "[CV 4/5] END colsample_bytree=0.4, gamma=0.2, learning_rate=0.15, max_depth=6, min_child_weight=1;, score=0.955 total time=   7.4s\n",
      "[CV 3/5] END colsample_bytree=0.5, gamma=0.2, learning_rate=0.1, max_depth=4, min_child_weight=7;, score=0.942 total time=   6.2s\n",
      "[CV 2/5] END colsample_bytree=0.4, gamma=0.2, learning_rate=0.2, max_depth=8, min_child_weight=5;, score=0.940 total time=   9.5s\n",
      "[CV 5/5] END colsample_bytree=0.4, gamma=0.2, learning_rate=0.2, max_depth=8, min_child_weight=5;, score=0.951 total time=   9.4s\n",
      "[CV 3/5] END colsample_bytree=0.7, gamma=0.3, learning_rate=0.15, max_depth=12, min_child_weight=3;, score=0.936 total time=  29.0s\n",
      "[CV 3/5] END colsample_bytree=0.4, gamma=0.2, learning_rate=0.15, max_depth=6, min_child_weight=1;, score=0.946 total time=   7.1s\n",
      "[CV 1/5] END colsample_bytree=0.5, gamma=0.2, learning_rate=0.1, max_depth=4, min_child_weight=7;, score=0.924 total time=   6.1s\n",
      "[CV 2/5] END colsample_bytree=0.5, gamma=0.2, learning_rate=0.1, max_depth=4, min_child_weight=7;, score=0.945 total time=   5.7s\n",
      "[CV 5/5] END colsample_bytree=0.5, gamma=0.2, learning_rate=0.1, max_depth=4, min_child_weight=7;, score=0.950 total time=   6.4s\n",
      "[CV 4/5] END colsample_bytree=0.4, gamma=0.2, learning_rate=0.2, max_depth=8, min_child_weight=5;, score=0.952 total time=   9.4s\n",
      "[CV 3/5] END colsample_bytree=0.4, gamma=0.1, learning_rate=0.2, max_depth=6, min_child_weight=5;, score=0.942 total time=   6.7s\n",
      "[CV 1/5] END colsample_bytree=0.7, gamma=0.3, learning_rate=0.15, max_depth=12, min_child_weight=3;, score=0.913 total time=  28.6s\n",
      "[CV 5/5] END colsample_bytree=0.7, gamma=0.3, learning_rate=0.15, max_depth=12, min_child_weight=3;, score=0.947 total time=  21.2s\n",
      "[CV 3/5] END colsample_bytree=0.4, gamma=0.2, learning_rate=0.2, max_depth=8, min_child_weight=5;, score=0.942 total time=   9.5s\n",
      "[CV 2/5] END colsample_bytree=0.4, gamma=0.1, learning_rate=0.2, max_depth=6, min_child_weight=5;, score=0.943 total time=   7.2s\n",
      "[CV 5/5] END colsample_bytree=0.4, gamma=0.1, learning_rate=0.2, max_depth=6, min_child_weight=5;, score=0.952 total time=   5.5s\n",
      "[CV 4/5] END colsample_bytree=0.7, gamma=0.3, learning_rate=0.15, max_depth=12, min_child_weight=3;, score=0.950 total time=  28.8s\n",
      "[CV 2/5] END colsample_bytree=0.4, gamma=0.2, learning_rate=0.15, max_depth=6, min_child_weight=1;, score=0.946 total time=   7.2s\n",
      "[CV 5/5] END colsample_bytree=0.4, gamma=0.2, learning_rate=0.15, max_depth=6, min_child_weight=1;, score=0.952 total time=   7.4s\n",
      "[CV 4/5] END colsample_bytree=0.5, gamma=0.2, learning_rate=0.1, max_depth=4, min_child_weight=7;, score=0.953 total time=   6.1s\n",
      "[CV 1/5] END colsample_bytree=0.4, gamma=0.2, learning_rate=0.2, max_depth=8, min_child_weight=5;, score=0.919 total time=   9.5s\n",
      "[CV 1/5] END colsample_bytree=0.4, gamma=0.1, learning_rate=0.2, max_depth=6, min_child_weight=5;, score=0.919 total time=   7.3s\n",
      "[CV 4/5] END colsample_bytree=0.4, gamma=0.1, learning_rate=0.2, max_depth=6, min_child_weight=5;, score=0.955 total time=   5.5s\n"
     ]
    }
   ],
   "source": [
    "# Print the output.\n",
    "print('List of possible accuracy:', lst_accu_stratified)\n",
    "print('\\nMaximum Accuracy That can be obtained from this model is:',\n",
    "      max(lst_accu_stratified)*100, '%')\n",
    "print('\\nMinimum Accuracy:',\n",
    "      min(lst_accu_stratified)*100, '%')\n",
    "print('\\nOverall Accuracy:',\n",
    "      mean(lst_accu_stratified)*100, '%')\n",
    "print('\\nStandard Deviation is:', stdev(lst_accu_stratified))"
   ]
  },
  {
   "cell_type": "code",
   "execution_count": null,
   "id": "61f60969-51bb-45db-a1c9-c48887c84e3d",
   "metadata": {},
   "outputs": [],
   "source": []
  }
 ],
 "metadata": {
  "kernelspec": {
   "display_name": "Python 3 (ipykernel)",
   "language": "python",
   "name": "python3"
  },
  "language_info": {
   "codemirror_mode": {
    "name": "ipython",
    "version": 3
   },
   "file_extension": ".py",
   "mimetype": "text/x-python",
   "name": "python",
   "nbconvert_exporter": "python",
   "pygments_lexer": "ipython3",
   "version": "3.9.7"
  }
 },
 "nbformat": 4,
 "nbformat_minor": 5
}
